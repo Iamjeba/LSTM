{
  "nbformat": 4,
  "nbformat_minor": 0,
  "metadata": {
    "colab": {
      "provenance": [],
      "gpuType": "T4"
    },
    "kernelspec": {
      "name": "python3",
      "display_name": "Python 3"
    },
    "language_info": {
      "name": "python"
    },
    "accelerator": "GPU"
  },
  "cells": [
    {
      "cell_type": "code",
      "execution_count": 1,
      "metadata": {
        "colab": {
          "base_uri": "https://localhost:8080/"
        },
        "id": "uPjcVxRCrtTE",
        "outputId": "c00f39b5-54a5-4d84-9b65-391a2f6d3b91"
      },
      "outputs": [
        {
          "output_type": "stream",
          "name": "stdout",
          "text": [
            "Mounted at /content/drive\n"
          ]
        }
      ],
      "source": [
        "from google.colab import drive\n",
        "\n",
        "# Mount Google Drive\n",
        "drive.mount('/content/drive')"
      ]
    },
    {
      "cell_type": "code",
      "source": [
        "from zipfile import ZipFile\n",
        "with ZipFile('/content/drive/MyDrive/sc_lab_assignment.zip', 'r') as zipObj:\n",
        "     zipObj.extractall('sc_lab_assignment')"
      ],
      "metadata": {
        "id": "fjZo2A6ttSd6"
      },
      "execution_count": 2,
      "outputs": []
    },
    {
      "cell_type": "code",
      "source": [
        "pip install split-folders[full]"
      ],
      "metadata": {
        "colab": {
          "base_uri": "https://localhost:8080/"
        },
        "id": "WS2dyi0tt3Hv",
        "outputId": "aaabc06e-5496-479c-c625-6252dad3f22a"
      },
      "execution_count": 3,
      "outputs": [
        {
          "output_type": "stream",
          "name": "stdout",
          "text": [
            "Collecting split-folders[full]\n",
            "  Downloading split_folders-0.5.1-py3-none-any.whl (8.4 kB)\n",
            "Requirement already satisfied: tqdm in /usr/local/lib/python3.10/dist-packages (from split-folders[full]) (4.66.0)\n",
            "Installing collected packages: split-folders\n",
            "Successfully installed split-folders-0.5.1\n"
          ]
        }
      ]
    },
    {
      "cell_type": "code",
      "source": [
        "import splitfolders"
      ],
      "metadata": {
        "id": "B0JTfClet9-N"
      },
      "execution_count": 4,
      "outputs": []
    },
    {
      "cell_type": "code",
      "source": [
        "input_folder = '/content/sc_lab_assignment'"
      ],
      "metadata": {
        "id": "LTPhy6DQuCMe"
      },
      "execution_count": 7,
      "outputs": []
    },
    {
      "cell_type": "code",
      "source": [
        "splitfolders.ratio(input_folder, output=\"/content/drive/MyDrive/splited_dataset(sc_lab_assignment)\",\n",
        "                   seed=42, ratio=(.7, .2,.1),\n",
        "                   group_prefix=None)"
      ],
      "metadata": {
        "colab": {
          "base_uri": "https://localhost:8080/"
        },
        "id": "rSgT1dUrvawC",
        "outputId": "6c40f4c6-6fce-475f-b3b5-30ac0fd103b2"
      },
      "execution_count": 9,
      "outputs": [
        {
          "output_type": "stream",
          "name": "stderr",
          "text": [
            "\n",
            "Copying files: 0 files [00:00, ? files/s]\u001b[A\n",
            "Copying files: 9 files [00:00, 88.10 files/s]\u001b[A\n",
            "Copying files: 23 files [00:00, 116.83 files/s]\u001b[A\n",
            "Copying files: 37 files [00:00, 125.95 files/s]\u001b[A\n",
            "Copying files: 51 files [00:00, 128.76 files/s]\u001b[A\n",
            "Copying files: 65 files [00:00, 132.45 files/s]\u001b[A\n",
            "Copying files: 79 files [00:00, 131.82 files/s]\u001b[A\n",
            "Copying files: 94 files [00:00, 137.05 files/s]\u001b[A\n",
            "Copying files: 108 files [00:00, 137.66 files/s]\u001b[A\n",
            "Copying files: 122 files [00:00, 123.18 files/s]\u001b[A\n",
            "Copying files: 135 files [00:01, 103.26 files/s]\u001b[A\n",
            "Copying files: 146 files [00:01, 79.55 files/s] \u001b[A\n",
            "Copying files: 156 files [00:01, 82.25 files/s]\u001b[A\n",
            "Copying files: 166 files [00:01, 84.81 files/s]\u001b[A\n",
            "Copying files: 179 files [00:01, 94.02 files/s]\u001b[A\n",
            "Copying files: 193 files [00:01, 98.72 files/s]\u001b[A\n",
            "Copying files: 205 files [00:01, 103.35 files/s]\u001b[A\n",
            "Copying files: 216 files [00:02, 93.28 files/s] \u001b[A\n",
            "Copying files: 227 files [00:02, 97.44 files/s]\u001b[A\n",
            "Copying files: 238 files [00:02, 99.43 files/s]\u001b[A\n",
            "Copying files: 249 files [00:02, 99.07 files/s]\u001b[A\n",
            "Copying files: 263 files [00:02, 104.13 files/s]\u001b[A\n",
            "Copying files: 278 files [00:02, 112.46 files/s]\u001b[A\n",
            "Copying files: 294 files [00:02, 121.22 files/s]\u001b[A\n",
            "Copying files: 309 files [00:02, 125.59 files/s]\u001b[A\n",
            "Copying files: 322 files [00:03, 106.43 files/s]\u001b[A\n",
            "Copying files: 334 files [00:03, 96.59 files/s] \u001b[A\n",
            "Copying files: 345 files [00:03, 92.72 files/s]\u001b[A\n",
            "Copying files: 356 files [00:03, 96.64 files/s]\u001b[A\n",
            "Copying files: 366 files [00:03, 87.61 files/s]\u001b[A\n",
            "Copying files: 380 files [00:03, 97.28 files/s]\u001b[A\n",
            "Copying files: 391 files [00:03, 87.22 files/s]\u001b[A\n",
            "Copying files: 401 files [00:03, 90.18 files/s]\u001b[A\n",
            "Copying files: 417 files [00:04, 106.86 files/s]\u001b[A\n",
            "Copying files: 432 files [00:04, 116.96 files/s]\u001b[A\n",
            "Copying files: 447 files [00:04, 125.54 files/s]\u001b[A\n",
            "Copying files: 460 files [00:04, 125.89 files/s]\u001b[A\n",
            "Copying files: 473 files [00:04, 122.54 files/s]\u001b[A\n",
            "Copying files: 488 files [00:04, 128.71 files/s]\u001b[A\n",
            "Copying files: 502 files [00:04, 130.76 files/s]\u001b[A\n",
            "Copying files: 517 files [00:04, 135.00 files/s]\u001b[A\n",
            "Copying files: 531 files [00:04, 132.93 files/s]\u001b[A\n",
            "Copying files: 547 files [00:04, 139.73 files/s]\u001b[A\n",
            "Copying files: 562 files [00:05, 140.62 files/s]\u001b[A\n",
            "Copying files: 577 files [00:05, 140.47 files/s]\u001b[A\n",
            "Copying files: 592 files [00:05, 139.23 files/s]\u001b[A\n",
            "Copying files: 606 files [00:05, 137.59 files/s]\u001b[A\n",
            "Copying files: 621 files [00:05, 141.11 files/s]\u001b[A\n",
            "Copying files: 636 files [00:05, 142.20 files/s]\u001b[A\n",
            "Copying files: 651 files [00:05, 130.55 files/s]\u001b[A\n",
            "Copying files: 667 files [00:05, 133.95 files/s]\u001b[A\n",
            "Copying files: 681 files [00:05, 130.14 files/s]\u001b[A\n",
            "Copying files: 695 files [00:06, 129.99 files/s]\u001b[A\n",
            "Copying files: 710 files [00:06, 130.63 files/s]\u001b[A\n",
            "Copying files: 724 files [00:06, 129.11 files/s]\u001b[A\n",
            "Copying files: 737 files [00:06, 129.15 files/s]\u001b[A\n",
            "Copying files: 751 files [00:06, 131.88 files/s]\u001b[A\n",
            "Copying files: 766 files [00:06, 136.21 files/s]\u001b[A\n",
            "Copying files: 781 files [00:06, 139.88 files/s]\u001b[A\n",
            "Copying files: 797 files [00:06, 143.72 files/s]\u001b[A\n",
            "Copying files: 812 files [00:06, 140.39 files/s]\u001b[A\n",
            "Copying files: 827 files [00:07, 140.46 files/s]\u001b[A\n",
            "Copying files: 842 files [00:07, 142.22 files/s]\u001b[A\n",
            "Copying files: 859 files [00:07, 148.15 files/s]\u001b[A\n",
            "Copying files: 874 files [00:07, 147.59 files/s]\u001b[A\n",
            "Copying files: 889 files [00:07, 141.19 files/s]\u001b[A\n",
            "Copying files: 904 files [00:07, 142.50 files/s]\u001b[A\n",
            "Copying files: 919 files [00:07, 136.66 files/s]\u001b[A\n",
            "Copying files: 934 files [00:07, 140.34 files/s]\u001b[A\n",
            "Copying files: 949 files [00:07, 140.34 files/s]\u001b[A\n",
            "Copying files: 964 files [00:07, 139.40 files/s]\u001b[A\n",
            "Copying files: 979 files [00:08, 142.39 files/s]\u001b[A\n",
            "Copying files: 994 files [00:08, 137.80 files/s]\u001b[A\n",
            "Copying files: 1008 files [00:08, 136.08 files/s]\u001b[A\n",
            "Copying files: 1022 files [00:08, 133.41 files/s]\u001b[A\n",
            "Copying files: 1036 files [00:08, 132.46 files/s]\u001b[A\n",
            "Copying files: 1051 files [00:08, 136.37 files/s]\u001b[A\n",
            "Copying files: 1066 files [00:08, 139.81 files/s]\u001b[A\n",
            "Copying files: 1082 files [00:08, 144.07 files/s]\u001b[A\n",
            "Copying files: 1097 files [00:08, 144.75 files/s]\u001b[A\n",
            "Copying files: 1112 files [00:09, 139.57 files/s]\u001b[A\n",
            "Copying files: 1127 files [00:09, 139.73 files/s]\u001b[A\n",
            "Copying files: 1143 files [00:09, 145.14 files/s]\u001b[A\n",
            "Copying files: 1158 files [00:09, 141.98 files/s]\u001b[A\n",
            "Copying files: 1173 files [00:09, 138.10 files/s]\u001b[A\n",
            "Copying files: 1188 files [00:09, 140.31 files/s]\u001b[A\n",
            "Copying files: 1203 files [00:09, 128.59 files/s]\u001b[A\n",
            "Copying files: 1219 files [00:09, 136.71 files/s]\u001b[A\n",
            "Copying files: 1235 files [00:09, 142.35 files/s]\u001b[A\n",
            "Copying files: 1250 files [00:10, 142.64 files/s]\u001b[A\n",
            "Copying files: 1265 files [00:10, 137.92 files/s]\u001b[A\n",
            "Copying files: 1281 files [00:10, 142.59 files/s]\u001b[A\n",
            "Copying files: 1297 files [00:10, 145.86 files/s]\u001b[A\n",
            "Copying files: 1313 files [00:10, 149.73 files/s]\u001b[A\n",
            "Copying files: 1329 files [00:10, 147.14 files/s]\u001b[A\n",
            "Copying files: 1344 files [00:10, 144.01 files/s]\u001b[A\n",
            "Copying files: 1359 files [00:10, 144.96 files/s]\u001b[A\n",
            "Copying files: 1374 files [00:10, 142.62 files/s]\u001b[A\n",
            "Copying files: 1389 files [00:11, 136.16 files/s]\u001b[A\n",
            "Copying files: 1405 files [00:11, 142.37 files/s]\u001b[A\n",
            "Copying files: 1421 files [00:11, 147.08 files/s]\u001b[A\n",
            "Copying files: 1437 files [00:11, 149.92 files/s]\u001b[A\n",
            "Copying files: 1453 files [00:11, 147.74 files/s]\u001b[A\n",
            "Copying files: 1468 files [00:11, 145.72 files/s]\u001b[A\n",
            "Copying files: 1485 files [00:11, 151.32 files/s]\u001b[A\n",
            "Copying files: 1501 files [00:11, 153.72 files/s]\u001b[A\n",
            "Copying files: 1517 files [00:11, 150.16 files/s]\u001b[A\n",
            "Copying files: 1533 files [00:11, 147.80 files/s]\u001b[A\n",
            "Copying files: 1549 files [00:12, 150.30 files/s]\u001b[A\n",
            "Copying files: 1565 files [00:12, 152.89 files/s]\u001b[A\n",
            "Copying files: 1582 files [00:12, 156.32 files/s]\u001b[A\n",
            "Copying files: 1598 files [00:12, 152.73 files/s]\u001b[A\n",
            "Copying files: 1614 files [00:12, 146.73 files/s]\u001b[A\n",
            "Copying files: 1629 files [00:12, 147.05 files/s]\u001b[A\n",
            "Copying files: 1645 files [00:12, 148.81 files/s]\u001b[A\n",
            "Copying files: 1660 files [00:12, 148.96 files/s]\u001b[A\n",
            "Copying files: 1676 files [00:12, 145.20 files/s]\u001b[A\n",
            "Copying files: 1691 files [00:13, 144.54 files/s]\u001b[A\n",
            "Copying files: 1707 files [00:13, 148.44 files/s]\u001b[A\n",
            "Copying files: 1723 files [00:13, 150.30 files/s]\u001b[A\n",
            "Copying files: 1739 files [00:13, 143.29 files/s]\u001b[A\n",
            "Copying files: 1754 files [00:13, 142.55 files/s]\u001b[A\n",
            "Copying files: 1769 files [00:13, 143.15 files/s]\u001b[A\n",
            "Copying files: 1785 files [00:13, 146.50 files/s]\u001b[A\n",
            "Copying files: 1801 files [00:13, 139.75 files/s]\u001b[A\n",
            "Copying files: 1817 files [00:13, 145.02 files/s]\u001b[A\n",
            "Copying files: 1832 files [00:14, 143.45 files/s]\u001b[A\n",
            "Copying files: 1848 files [00:14, 146.09 files/s]\u001b[A\n",
            "Copying files: 1864 files [00:14, 149.34 files/s]\u001b[A\n",
            "Copying files: 1880 files [00:14, 152.32 files/s]\u001b[A\n",
            "Copying files: 1896 files [00:14, 152.00 files/s]\u001b[A\n",
            "Copying files: 1912 files [00:14, 148.88 files/s]\u001b[A\n",
            "Copying files: 1927 files [00:14, 148.04 files/s]\u001b[A\n",
            "Copying files: 1943 files [00:14, 150.68 files/s]\u001b[A\n",
            "Copying files: 1959 files [00:14, 146.58 files/s]\u001b[A\n",
            "Copying files: 1975 files [00:14, 149.38 files/s]\u001b[A\n",
            "Copying files: 1990 files [00:15, 142.58 files/s]\u001b[A\n",
            "Copying files: 2005 files [00:15, 144.56 files/s]\u001b[A\n",
            "Copying files: 2021 files [00:15, 147.76 files/s]\u001b[A\n",
            "Copying files: 2036 files [00:15, 140.10 files/s]\u001b[A\n",
            "Copying files: 2052 files [00:15, 145.31 files/s]\u001b[A\n",
            "Copying files: 2067 files [00:15, 138.02 files/s]\u001b[A\n",
            "Copying files: 2082 files [00:15, 141.26 files/s]\u001b[A\n",
            "Copying files: 2098 files [00:15, 145.05 files/s]\u001b[A\n",
            "Copying files: 2114 files [00:15, 148.90 files/s]\u001b[A\n",
            "Copying files: 2129 files [00:16, 148.27 files/s]\u001b[A\n",
            "Copying files: 2144 files [00:16, 148.36 files/s]\u001b[A\n",
            "Copying files: 2160 files [00:16, 144.49 files/s]\u001b[A\n",
            "Copying files: 2177 files [00:16, 149.92 files/s]\u001b[A\n",
            "Copying files: 2193 files [00:16, 150.76 files/s]\u001b[A\n",
            "Copying files: 2209 files [00:16, 152.08 files/s]\u001b[A\n",
            "Copying files: 2225 files [00:16, 147.34 files/s]\u001b[A\n",
            "Copying files: 2240 files [00:16, 140.86 files/s]\u001b[A\n",
            "Copying files: 2256 files [00:16, 145.08 files/s]\u001b[A\n",
            "Copying files: 2272 files [00:17, 146.32 files/s]\u001b[A\n",
            "Copying files: 2288 files [00:17, 149.29 files/s]\u001b[A\n",
            "Copying files: 2303 files [00:17, 148.39 files/s]\u001b[A\n",
            "Copying files: 2320 files [00:17, 152.72 files/s]\u001b[A\n",
            "Copying files: 2336 files [00:17, 154.71 files/s]\u001b[A\n",
            "Copying files: 2352 files [00:17, 150.19 files/s]\u001b[A\n",
            "Copying files: 2368 files [00:17, 152.32 files/s]\u001b[A\n",
            "Copying files: 2384 files [00:17, 148.48 files/s]\u001b[A\n",
            "Copying files: 2400 files [00:17, 151.34 files/s]\u001b[A\n",
            "Copying files: 2416 files [00:17, 150.89 files/s]\u001b[A\n",
            "Copying files: 2432 files [00:18, 151.41 files/s]\u001b[A\n",
            "Copying files: 2448 files [00:18, 153.44 files/s]\u001b[A\n",
            "Copying files: 2464 files [00:18, 151.75 files/s]\u001b[A\n",
            "Copying files: 2480 files [00:18, 152.45 files/s]\u001b[A\n",
            "Copying files: 2496 files [00:18, 153.82 files/s]\u001b[A\n",
            "Copying files: 2512 files [00:18, 154.32 files/s]\u001b[A\n",
            "Copying files: 2528 files [00:18, 153.69 files/s]\u001b[A\n",
            "Copying files: 2544 files [00:18, 149.22 files/s]\u001b[A\n",
            "Copying files: 2560 files [00:18, 145.91 files/s]\u001b[A\n",
            "Copying files: 2576 files [00:19, 147.78 files/s]\u001b[A\n",
            "Copying files: 2593 files [00:19, 151.97 files/s]\u001b[A\n",
            "Copying files: 2609 files [00:19, 153.22 files/s]\u001b[A\n",
            "Copying files: 2625 files [00:19, 150.83 files/s]\u001b[A\n",
            "Copying files: 2641 files [00:19, 152.21 files/s]\u001b[A\n",
            "Copying files: 2657 files [00:19, 145.65 files/s]\u001b[A\n",
            "Copying files: 2672 files [00:19, 137.45 files/s]\u001b[A\n",
            "Copying files: 2686 files [00:19, 133.28 files/s]\u001b[A\n",
            "Copying files: 2702 files [00:19, 138.98 files/s]\u001b[A\n",
            "Copying files: 2716 files [00:20, 137.99 files/s]\u001b[A\n",
            "Copying files: 2731 files [00:20, 140.73 files/s]\u001b[A\n",
            "Copying files: 2746 files [00:20, 135.94 files/s]\u001b[A\n",
            "Copying files: 2761 files [00:20, 134.35 files/s]\u001b[A\n",
            "Copying files: 2776 files [00:20, 137.04 files/s]\u001b[A\n",
            "Copying files: 2790 files [00:20, 137.61 files/s]\u001b[A\n",
            "Copying files: 2804 files [00:20, 137.81 files/s]\u001b[A\n",
            "Copying files: 2818 files [00:20, 120.53 files/s]\u001b[A\n",
            "Copying files: 2831 files [00:20, 117.12 files/s]\u001b[A\n",
            "Copying files: 2846 files [00:21, 125.50 files/s]\u001b[A\n",
            "Copying files: 2862 files [00:21, 134.48 files/s]\u001b[A\n",
            "Copying files: 2877 files [00:21, 138.56 files/s]\u001b[A\n",
            "Copying files: 2892 files [00:21, 139.37 files/s]\u001b[A\n",
            "Copying files: 2907 files [00:21, 135.21 files/s]\u001b[A\n",
            "Copying files: 2921 files [00:21, 135.41 files/s]\u001b[A\n",
            "Copying files: 2935 files [00:21, 132.30 files/s]\u001b[A\n",
            "Copying files: 2949 files [00:21, 132.68 files/s]\u001b[A\n",
            "Copying files: 2963 files [00:21, 133.18 files/s]\u001b[A\n",
            "Copying files: 2977 files [00:21, 133.43 files/s]\u001b[A\n",
            "Copying files: 2992 files [00:22, 136.98 files/s]\u001b[A\n",
            "Copying files: 3006 files [00:22, 134.69 files/s]\u001b[A\n",
            "Copying files: 3020 files [00:22, 127.83 files/s]\u001b[A\n",
            "Copying files: 3034 files [00:22, 131.13 files/s]\u001b[A\n",
            "Copying files: 3050 files [00:22, 138.64 files/s]\u001b[A\n",
            "Copying files: 3065 files [00:22, 140.29 files/s]\u001b[A\n",
            "Copying files: 3080 files [00:22, 137.00 files/s]\u001b[A\n",
            "Copying files: 3094 files [00:22, 117.25 files/s]\u001b[A\n",
            "Copying files: 3107 files [00:23, 62.32 files/s] \u001b[A\n",
            "Copying files: 3117 files [00:23, 61.76 files/s]\u001b[A\n",
            "Copying files: 3127 files [00:23, 68.24 files/s]\u001b[A\n",
            "Copying files: 3138 files [00:23, 76.05 files/s]\u001b[A\n",
            "Copying files: 3151 files [00:23, 87.07 files/s]\u001b[A\n",
            "Copying files: 3162 files [00:23, 85.55 files/s]\u001b[A\n",
            "Copying files: 3178 files [00:24, 102.26 files/s]\u001b[A\n",
            "Copying files: 3195 files [00:24, 118.39 files/s]\u001b[A\n",
            "Copying files: 3208 files [00:24, 119.45 files/s]\u001b[A\n",
            "Copying files: 3224 files [00:24, 129.12 files/s]\u001b[A\n",
            "Copying files: 3239 files [00:24, 133.36 files/s]\u001b[A\n",
            "Copying files: 3254 files [00:24, 137.27 files/s]\u001b[A\n",
            "Copying files: 3270 files [00:24, 142.43 files/s]\u001b[A\n",
            "Copying files: 3285 files [00:24, 142.60 files/s]\u001b[A\n",
            "Copying files: 3300 files [00:24, 143.03 files/s]\u001b[A\n",
            "Copying files: 3316 files [00:25, 146.26 files/s]\u001b[A\n",
            "Copying files: 3331 files [00:25, 144.16 files/s]\u001b[A\n",
            "Copying files: 3346 files [00:25, 144.19 files/s]\u001b[A\n",
            "Copying files: 3361 files [00:25, 141.82 files/s]\u001b[A\n",
            "Copying files: 3376 files [00:25, 144.15 files/s]\u001b[A\n",
            "Copying files: 3392 files [00:25, 146.64 files/s]\u001b[A\n",
            "Copying files: 3407 files [00:25, 143.39 files/s]\u001b[A\n",
            "Copying files: 3423 files [00:25, 146.93 files/s]\u001b[A\n",
            "Copying files: 3440 files [00:25, 146.67 files/s]\u001b[A\n",
            "Copying files: 3455 files [00:25, 145.51 files/s]\u001b[A\n",
            "Copying files: 3471 files [00:26, 144.44 files/s]\u001b[A\n",
            "Copying files: 3487 files [00:26, 147.71 files/s]\u001b[A\n",
            "Copying files: 3502 files [00:26, 143.83 files/s]\u001b[A\n",
            "Copying files: 3517 files [00:26, 140.71 files/s]\u001b[A\n",
            "Copying files: 3533 files [00:26, 145.08 files/s]\u001b[A\n",
            "Copying files: 3549 files [00:26, 148.64 files/s]\u001b[A\n",
            "Copying files: 3565 files [00:26, 151.23 files/s]\u001b[A\n",
            "Copying files: 3581 files [00:26, 151.78 files/s]\u001b[A\n",
            "Copying files: 3597 files [00:26, 148.41 files/s]\u001b[A\n",
            "Copying files: 3612 files [00:27, 141.93 files/s]\u001b[A\n",
            "Copying files: 3627 files [00:27, 144.02 files/s]\u001b[A\n",
            "Copying files: 3643 files [00:27, 147.34 files/s]\u001b[A\n",
            "Copying files: 3659 files [00:27, 149.18 files/s]\u001b[A\n",
            "Copying files: 3675 files [00:27, 152.15 files/s]\u001b[A\n",
            "Copying files: 3691 files [00:27, 152.68 files/s]\u001b[A\n",
            "Copying files: 3707 files [00:27, 154.01 files/s]\u001b[A\n",
            "Copying files: 3723 files [00:27, 146.44 files/s]\u001b[A\n",
            "Copying files: 3738 files [00:27, 134.59 files/s]\u001b[A\n",
            "Copying files: 3753 files [00:28, 134.49 files/s]\u001b[A\n",
            "Copying files: 3769 files [00:28, 138.85 files/s]\u001b[A\n",
            "Copying files: 3784 files [00:28, 141.92 files/s]\u001b[A\n",
            "Copying files: 3799 files [00:28, 143.46 files/s]\u001b[A\n",
            "Copying files: 3814 files [00:28, 145.10 files/s]\u001b[A\n",
            "Copying files: 3830 files [00:28, 147.40 files/s]\u001b[A\n",
            "Copying files: 3846 files [00:28, 149.54 files/s]\u001b[A\n",
            "Copying files: 3861 files [00:28, 149.32 files/s]\u001b[A\n",
            "Copying files: 3876 files [00:28, 146.30 files/s]\u001b[A\n",
            "Copying files: 3891 files [00:28, 143.52 files/s]\u001b[A\n",
            "Copying files: 3906 files [00:29, 144.46 files/s]\u001b[A\n",
            "Copying files: 3921 files [00:29, 144.29 files/s]\u001b[A\n",
            "Copying files: 3937 files [00:29, 147.84 files/s]\u001b[A\n",
            "Copying files: 3952 files [00:29, 145.61 files/s]\u001b[A\n",
            "Copying files: 3967 files [00:29, 139.42 files/s]\u001b[A\n",
            "Copying files: 3982 files [00:29, 135.70 files/s]\u001b[A\n",
            "Copying files: 3996 files [00:29, 136.02 files/s]\u001b[A\n",
            "Copying files: 4010 files [00:29, 136.08 files/s]\u001b[A\n",
            "Copying files: 4024 files [00:29, 136.63 files/s]\u001b[A\n",
            "Copying files: 4038 files [00:30, 134.18 files/s]\u001b[A\n",
            "Copying files: 4053 files [00:30, 137.91 files/s]\u001b[A\n",
            "Copying files: 4067 files [00:30, 137.78 files/s]\u001b[A\n",
            "Copying files: 4082 files [00:30, 139.46 files/s]\u001b[A\n",
            "Copying files: 4096 files [00:30, 139.12 files/s]\u001b[A\n",
            "Copying files: 4110 files [00:30, 129.00 files/s]\u001b[A\n",
            "Copying files: 4124 files [00:30, 131.49 files/s]\u001b[A\n",
            "Copying files: 4139 files [00:30, 136.19 files/s]\u001b[A\n",
            "Copying files: 4154 files [00:30, 140.00 files/s]\u001b[A\n",
            "Copying files: 4170 files [00:30, 144.44 files/s]\u001b[A\n",
            "Copying files: 4185 files [00:31, 140.41 files/s]\u001b[A\n",
            "Copying files: 4200 files [00:31, 141.90 files/s]\u001b[A\n",
            "Copying files: 4215 files [00:31, 143.69 files/s]\u001b[A\n",
            "Copying files: 4230 files [00:31, 132.14 files/s]\u001b[A\n",
            "Copying files: 4246 files [00:31, 137.98 files/s]\u001b[A\n",
            "Copying files: 4261 files [00:31, 141.05 files/s]\u001b[A\n",
            "Copying files: 4277 files [00:31, 144.33 files/s]\u001b[A\n",
            "Copying files: 4292 files [00:31, 142.68 files/s]\u001b[A\n",
            "Copying files: 4307 files [00:31, 140.58 files/s]\u001b[A\n",
            "Copying files: 4322 files [00:32, 141.93 files/s]\u001b[A\n",
            "Copying files: 4337 files [00:32, 136.99 files/s]\u001b[A\n",
            "Copying files: 4352 files [00:32, 140.00 files/s]\u001b[A\n",
            "Copying files: 4367 files [00:32, 136.37 files/s]\u001b[A\n",
            "Copying files: 4383 files [00:32, 142.16 files/s]\u001b[A\n",
            "Copying files: 4399 files [00:32, 146.57 files/s]\u001b[A\n",
            "Copying files: 4414 files [00:32, 145.80 files/s]\u001b[A\n",
            "Copying files: 4430 files [00:32, 148.52 files/s]\u001b[A\n",
            "Copying files: 4445 files [00:32, 146.53 files/s]\u001b[A\n",
            "Copying files: 4460 files [00:33, 147.03 files/s]\u001b[A\n",
            "Copying files: 4475 files [00:33, 144.84 files/s]\u001b[A\n",
            "Copying files: 4491 files [00:33, 148.68 files/s]\u001b[A\n",
            "Copying files: 4508 files [00:33, 152.62 files/s]\u001b[A\n",
            "Copying files: 4524 files [00:33, 149.79 files/s]\u001b[A\n",
            "Copying files: 4540 files [00:33, 148.26 files/s]\u001b[A\n",
            "Copying files: 4556 files [00:33, 151.14 files/s]\u001b[A\n",
            "Copying files: 4572 files [00:33, 150.24 files/s]\u001b[A\n",
            "Copying files: 4588 files [00:33, 144.58 files/s]\u001b[A\n",
            "Copying files: 4603 files [00:33, 137.48 files/s]\u001b[A\n",
            "Copying files: 4618 files [00:34, 138.70 files/s]\u001b[A\n",
            "Copying files: 4632 files [00:34, 132.70 files/s]\u001b[A\n",
            "Copying files: 4647 files [00:34, 136.95 files/s]\u001b[A\n",
            "Copying files: 4664 files [00:34, 144.46 files/s]\u001b[A\n",
            "Copying files: 4682 files [00:34, 152.27 files/s]\u001b[A\n",
            "Copying files: 4699 files [00:34, 157.02 files/s]\u001b[A\n",
            "Copying files: 4715 files [00:34, 155.47 files/s]\u001b[A\n",
            "Copying files: 4731 files [00:34, 150.21 files/s]\u001b[A\n",
            "Copying files: 4747 files [00:34, 149.37 files/s]\u001b[A\n",
            "Copying files: 4762 files [00:35, 137.93 files/s]\u001b[A\n",
            "Copying files: 4776 files [00:35, 135.20 files/s]\u001b[A\n",
            "Copying files: 4790 files [00:35, 127.70 files/s]\u001b[A\n",
            "Copying files: 4804 files [00:35, 129.29 files/s]\u001b[A\n",
            "Copying files: 4818 files [00:35, 129.19 files/s]\u001b[A\n",
            "Copying files: 4832 files [00:35, 130.82 files/s]\u001b[A\n",
            "Copying files: 4846 files [00:35, 132.05 files/s]\u001b[A\n",
            "Copying files: 4862 files [00:35, 138.98 files/s]\u001b[A\n",
            "Copying files: 4878 files [00:35, 138.04 files/s]\u001b[A\n",
            "Copying files: 4894 files [00:36, 142.59 files/s]\u001b[A\n",
            "Copying files: 4910 files [00:36, 145.57 files/s]\u001b[A\n",
            "Copying files: 4925 files [00:36, 138.62 files/s]\u001b[A\n",
            "Copying files: 4941 files [00:36, 142.72 files/s]\u001b[A\n",
            "Copying files: 4956 files [00:36, 139.96 files/s]\u001b[A\n",
            "Copying files: 4971 files [00:36, 137.56 files/s]\u001b[A\n",
            "Copying files: 4985 files [00:36, 134.85 files/s]\u001b[A\n",
            "Copying files: 5000 files [00:36, 137.25 files/s]\u001b[A\n",
            "Copying files: 5014 files [00:36, 132.64 files/s]\u001b[A\n",
            "Copying files: 5028 files [00:37, 134.20 files/s]\u001b[A\n",
            "Copying files: 5043 files [00:37, 137.26 files/s]\u001b[A\n",
            "Copying files: 5057 files [00:37, 137.45 files/s]\u001b[A\n",
            "Copying files: 5071 files [00:37, 137.66 files/s]\u001b[A\n",
            "Copying files: 5086 files [00:37, 132.81 files/s]\u001b[A\n",
            "Copying files: 5101 files [00:37, 135.55 files/s]\u001b[A\n",
            "Copying files: 5116 files [00:37, 138.20 files/s]\u001b[A\n",
            "Copying files: 5132 files [00:37, 142.51 files/s]\u001b[A\n",
            "Copying files: 5147 files [00:37, 143.64 files/s]\u001b[A\n",
            "Copying files: 5162 files [00:38, 144.53 files/s]\u001b[A\n",
            "Copying files: 5178 files [00:38, 147.94 files/s]\u001b[A\n",
            "Copying files: 5193 files [00:38, 144.84 files/s]\u001b[A\n",
            "Copying files: 5210 files [00:38, 150.60 files/s]\u001b[A\n",
            "Copying files: 5228 files [00:38, 135.96 files/s]\n"
          ]
        }
      ]
    },
    {
      "cell_type": "code",
      "source": [
        "import numpy as np\n",
        "import torch\n",
        "import torch.nn as nn\n",
        "import torch.nn.functional as F\n",
        "import torchvision\n",
        "import torchvision.transforms as transforms\n",
        "import torchvision.datasets as dsets"
      ],
      "metadata": {
        "id": "eeOa3P-Ov18s"
      },
      "execution_count": 10,
      "outputs": []
    },
    {
      "cell_type": "code",
      "source": [
        "import os"
      ],
      "metadata": {
        "id": "x82ZwjPswBzO"
      },
      "execution_count": 11,
      "outputs": []
    },
    {
      "cell_type": "code",
      "source": [
        "train_path=\"/content/drive/MyDrive/splited_dataset(sc_lab_assignment)/train\"\n",
        "test_path=\"/content/drive/MyDrive/splited_dataset(sc_lab_assignment)/test\"\n",
        "valid_path=\"/content/drive/MyDrive/splited_dataset(sc_lab_assignment)/val\""
      ],
      "metadata": {
        "id": "9gWn27NcwHA0"
      },
      "execution_count": 12,
      "outputs": []
    },
    {
      "cell_type": "code",
      "source": [
        "# Define data transformations (you can add more augmentations if required)\n",
        "data_transforms = transforms.Compose([\n",
        "    transforms.Resize((256, 256)),  # Resize the images to a fixed size\n",
        "    transforms.ToTensor(),  # Convert the images to PyTorch tensors\n",
        "])"
      ],
      "metadata": {
        "id": "Rs0CMRt3wLMs"
      },
      "execution_count": 13,
      "outputs": []
    },
    {
      "cell_type": "code",
      "source": [
        "train_data = torchvision.datasets.ImageFolder(train_path, transform=data_transforms)\n",
        "val_data = torchvision.datasets.ImageFolder(valid_path, transform=data_transforms)\n",
        "test_data = torchvision.datasets.ImageFolder(test_path, transform=data_transforms)"
      ],
      "metadata": {
        "id": "TLu-Fbf2w-YX"
      },
      "execution_count": 14,
      "outputs": []
    },
    {
      "cell_type": "code",
      "source": [
        "print(f\"Number of samples in training set: {len(train_data)}\")\n",
        "print(f\"Number of samples in testing set: {len(test_data)}\")\n",
        "print(f\"Number of samples in validation set: {len(val_data)}\")"
      ],
      "metadata": {
        "colab": {
          "base_uri": "https://localhost:8080/"
        },
        "id": "KFPr-14XxCJk",
        "outputId": "e5232309-7003-4141-90f8-ccbf28c56622"
      },
      "execution_count": 15,
      "outputs": [
        {
          "output_type": "stream",
          "name": "stdout",
          "text": [
            "Number of samples in training set: 3658\n",
            "Number of samples in testing set: 524\n",
            "Number of samples in validation set: 1045\n"
          ]
        }
      ]
    },
    {
      "cell_type": "code",
      "source": [
        "sequence_length = 256\n",
        "input_size =256*3\n",
        "hidden_size = 128\n",
        "num_layers = 2\n",
        "num_classes= 3\n",
        "batch_size = 62\n",
        "num_iters = 1475\n",
        "learning_rate = 0.01  # More power so we can learn faster! previously it was 0.001\n",
        "\n",
        "# Device\n",
        "device = torch.device(\"cuda:0\" if torch.cuda.is_available() else \"cpu\")"
      ],
      "metadata": {
        "id": "ySGOY_BnxENu"
      },
      "execution_count": 35,
      "outputs": []
    },
    {
      "cell_type": "code",
      "source": [
        "num_epochs = num_iters / (len(train_data) / batch_size)\n",
        "num_epochs = int(num_epochs)\n",
        "print(num_epochs)"
      ],
      "metadata": {
        "colab": {
          "base_uri": "https://localhost:8080/"
        },
        "id": "W5Yu7_j9xNZQ",
        "outputId": "7879cf6d-c722-42e9-842b-30934657cda3"
      },
      "execution_count": 36,
      "outputs": [
        {
          "output_type": "stream",
          "name": "stdout",
          "text": [
            "25\n"
          ]
        }
      ]
    },
    {
      "cell_type": "code",
      "source": [
        "train_loader = torch.utils.data.DataLoader(dataset=train_data,\n",
        "                                           batch_size=batch_size,\n",
        "                                           shuffle=True,drop_last=True)   # It's better to shuffle the whole training dataset!\n",
        "\n",
        "test_loader = torch.utils.data.DataLoader(dataset=test_data,\n",
        "                                          batch_size=batch_size,\n",
        "                                          shuffle=False,drop_last=True)\n",
        "val_loader = torch.utils.data.DataLoader(dataset=val_data,\n",
        "                                          batch_size=batch_size,\n",
        "                                          shuffle=False,drop_last=True)"
      ],
      "metadata": {
        "id": "mcsK7LGUxRuh"
      },
      "execution_count": 37,
      "outputs": []
    },
    {
      "cell_type": "code",
      "source": [
        "image_idx = 0  # Index of the image you want to check\n",
        "image, _ = train_data[image_idx]  # Load the image at the specified index\n",
        "\n",
        "# Get the dimensions (size) of the image\n",
        "image_size = image.shape\n",
        "print(\"Image size:\", image_size)"
      ],
      "metadata": {
        "colab": {
          "base_uri": "https://localhost:8080/"
        },
        "id": "F9FDqq57xWbr",
        "outputId": "a04990aa-2c7c-4b81-85d3-2c98e90ef0ac"
      },
      "execution_count": 38,
      "outputs": [
        {
          "output_type": "stream",
          "name": "stdout",
          "text": [
            "Image size: torch.Size([3, 256, 256])\n"
          ]
        }
      ]
    },
    {
      "cell_type": "code",
      "source": [
        "torch.manual_seed(30)"
      ],
      "metadata": {
        "colab": {
          "base_uri": "https://localhost:8080/"
        },
        "id": "DxtoMkm9xbFI",
        "outputId": "01fd68d3-5b0c-466f-a58f-9e5cd36cc377"
      },
      "execution_count": 39,
      "outputs": [
        {
          "output_type": "execute_result",
          "data": {
            "text/plain": [
              "<torch._C.Generator at 0x7ba514fa0710>"
            ]
          },
          "metadata": {},
          "execution_count": 39
        }
      ]
    },
    {
      "cell_type": "code",
      "source": [
        "class RNN(nn.Module):\n",
        "    def __init__(self, input_size, hidden_size, num_layers, num_classes):\n",
        "        super(RNN, self).__init__()\n",
        "        self.hidden_size= hidden_size\n",
        "        self.num_layers = num_layers\n",
        "\n",
        "        #self.lstm = nn.LSTM(input_size, hidden_size, num_layers, batch_first=True) # For uni Directional LSTM\n",
        "        #self.rnn = nn.RNN(input_size, hidden_size, num_layers, batch_first=True) # For uni Directional RNN\n",
        "        #self.rnn = nn.RNN(input_size, hidden_size, num_layers, batch_first=True,bidirectional=True) # For BiDirectional RNN\n",
        "        self.lstm = nn.LSTM(input_size, hidden_size, num_layers, batch_first=True,bidirectional=True) # For BiDirectional LSTM\n",
        "        #self.fc = nn.Linear(hidden_size, num_classes) #For uni Directional\n",
        "        self.fc = nn.Linear(hidden_size*2, num_classes) #For Bidirectional\n",
        "\n",
        "    def forward(self, x):\n",
        "         #set initial hidden and cell states\n",
        "        #h0 = torch.zeros(self.num_layers, x.size(0), self.hidden_size).to(device) #For uni Directional\n",
        "        #c0 = torch.zeros(self.num_layers, x.size(0), self.hidden_size).to(device) #For uni Directional\n",
        "        h0 = torch.zeros(self.num_layers*2, x.size(0), self.hidden_size).to(device) #For Bidirectional\n",
        "        c0 = torch.zeros(self.num_layers*2, x.size(0), self.hidden_size).to(device) #For Bidirectional\n",
        "\n",
        "        #Forward Propagation\n",
        "        #out, _  = self.rnn(x,h0)\n",
        "        out, _  = self.lstm(x,(h0,c0)) #out: tensor of shape (batch size, seq_length, hidden_size)\n",
        "        # Decode the hidden state of the last time step\n",
        "        out = self.fc(out[:, -1, :])\n",
        "        return out"
      ],
      "metadata": {
        "id": "i4w6BzsLxfxX"
      },
      "execution_count": 40,
      "outputs": []
    },
    {
      "cell_type": "code",
      "source": [
        "'''\n",
        "INSTANTIATE MODEL CLASS\n",
        "'''\n",
        "model = RNN( input_size, hidden_size, num_layers, num_classes)\n",
        "# To enable GPU\n",
        "model.to(device)"
      ],
      "metadata": {
        "colab": {
          "base_uri": "https://localhost:8080/"
        },
        "id": "PbftboKzxkg6",
        "outputId": "3bfec671-eeab-48fc-cf71-e60710b22e25"
      },
      "execution_count": 41,
      "outputs": [
        {
          "output_type": "execute_result",
          "data": {
            "text/plain": [
              "RNN(\n",
              "  (lstm): LSTM(768, 128, num_layers=2, batch_first=True, bidirectional=True)\n",
              "  (fc): Linear(in_features=256, out_features=3, bias=True)\n",
              ")"
            ]
          },
          "metadata": {},
          "execution_count": 41
        }
      ]
    },
    {
      "cell_type": "code",
      "source": [
        "criterion = nn.CrossEntropyLoss()\n",
        "optimizer = torch.optim.Adam(model.parameters(), lr=learning_rate)"
      ],
      "metadata": {
        "id": "zJfZMlVuxqiF"
      },
      "execution_count": 42,
      "outputs": []
    },
    {
      "cell_type": "code",
      "source": [
        "'''\n",
        "TRAIN THE MODEL\n",
        "'''\n",
        "iter = 0\n",
        "for epoch in range(num_epochs):\n",
        "    for i, (images, labels) in enumerate(train_loader):\n",
        "\n",
        "        images = images.reshape(-1, sequence_length, input_size).to(device)\n",
        "        labels = labels.to(device)\n",
        "\n",
        "        # Clear gradients w.r.t. parameters\n",
        "        optimizer.zero_grad()\n",
        "\n",
        "        # Forward pass to get output/logits\n",
        "        outputs = model(images)\n",
        "\n",
        "        # Calculate Loss: softmax --> cross entropy loss\n",
        "        loss = criterion(outputs, labels)\n",
        "\n",
        "        # Getting gradients w.r.t. parameters\n",
        "        loss.backward()\n",
        "\n",
        "        # Updating parameters\n",
        "        optimizer.step()\n",
        "\n",
        "        iter += 1\n",
        "\n",
        "        if iter % 59 == 0:\n",
        "            # Calculate Accuracy\n",
        "            correct = 0\n",
        "            total = 0\n",
        "            # Iterate through test dataset\n",
        "            for images, labels in val_loader:\n",
        "\n",
        "                images = images.reshape(-1, sequence_length, input_size).to(device)\n",
        "\n",
        "                # Forward pass only to get logits/output\n",
        "                outputs = model(images)\n",
        "\n",
        "                # Get predictions from the maximum value\n",
        "                _, predicted = torch.max(outputs, 1)\n",
        "\n",
        "                # Total number of labels\n",
        "                total += labels.size(0)\n",
        "\n",
        "\n",
        "                # Total correct predictions\n",
        "                if torch.cuda.is_available():\n",
        "                    correct += (predicted.cpu() == labels.cpu()).sum()\n",
        "                else:\n",
        "                    correct += (predicted == labels).sum()\n",
        "\n",
        "            accuracy = 100 * correct.item() / total\n",
        "\n",
        "            # Print Loss\n",
        "            print('Iteration: {}. Loss: {}. Val Accuracy: {}'.format(iter, loss.item(), accuracy))"
      ],
      "metadata": {
        "colab": {
          "base_uri": "https://localhost:8080/"
        },
        "id": "MvzAdHzvxwBl",
        "outputId": "8aec09f9-cd60-4844-de9f-ff647d38a4b8"
      },
      "execution_count": 43,
      "outputs": [
        {
          "output_type": "stream",
          "name": "stdout",
          "text": [
            "Iteration: 59. Loss: 0.8101324439048767. Val Accuracy: 63.306451612903224\n",
            "Iteration: 118. Loss: 0.9174693822860718. Val Accuracy: 63.00403225806452\n",
            "Iteration: 177. Loss: 0.7148790955543518. Val Accuracy: 71.06854838709677\n",
            "Iteration: 236. Loss: 0.5799575448036194. Val Accuracy: 74.39516129032258\n",
            "Iteration: 295. Loss: 0.4771195650100708. Val Accuracy: 75.40322580645162\n",
            "Iteration: 354. Loss: 0.4752984642982483. Val Accuracy: 74.09274193548387\n",
            "Iteration: 413. Loss: 0.514603853225708. Val Accuracy: 78.2258064516129\n",
            "Iteration: 472. Loss: 0.5935910940170288. Val Accuracy: 78.52822580645162\n",
            "Iteration: 531. Loss: 0.30609893798828125. Val Accuracy: 78.93145161290323\n",
            "Iteration: 590. Loss: 0.5109290480613708. Val Accuracy: 79.13306451612904\n",
            "Iteration: 649. Loss: 0.433707058429718. Val Accuracy: 79.03225806451613\n",
            "Iteration: 708. Loss: 0.46328413486480713. Val Accuracy: 77.21774193548387\n",
            "Iteration: 767. Loss: 0.5181794762611389. Val Accuracy: 80.44354838709677\n",
            "Iteration: 826. Loss: 0.40641459822654724. Val Accuracy: 79.83870967741936\n",
            "Iteration: 885. Loss: 0.41828200221061707. Val Accuracy: 79.93951612903226\n",
            "Iteration: 944. Loss: 0.29821136593818665. Val Accuracy: 81.75403225806451\n",
            "Iteration: 1003. Loss: 0.368439257144928. Val Accuracy: 80.9475806451613\n",
            "Iteration: 1062. Loss: 0.3069998323917389. Val Accuracy: 82.45967741935483\n",
            "Iteration: 1121. Loss: 0.35101568698883057. Val Accuracy: 82.25806451612904\n",
            "Iteration: 1180. Loss: 0.3771251440048218. Val Accuracy: 81.25\n",
            "Iteration: 1239. Loss: 0.37204399704933167. Val Accuracy: 80.34274193548387\n",
            "Iteration: 1298. Loss: 0.35206833481788635. Val Accuracy: 83.36693548387096\n",
            "Iteration: 1357. Loss: 0.4496844410896301. Val Accuracy: 83.56854838709677\n",
            "Iteration: 1416. Loss: 0.35385075211524963. Val Accuracy: 82.96370967741936\n",
            "Iteration: 1475. Loss: 0.3637705147266388. Val Accuracy: 84.2741935483871\n"
          ]
        }
      ]
    },
    {
      "cell_type": "code",
      "source": [
        "            correct = 0\n",
        "            total = 0\n",
        "            model.eval()\n",
        "            # Iterate through test dataset\n",
        "            for images, labels in test_loader:\n",
        "\n",
        "                images = images.reshape(-1, sequence_length, input_size).to(device)\n",
        "\n",
        "                # Forward pass only to get logits/output\n",
        "                outputs = model(images)\n",
        "\n",
        "                # Get predictions from the maximum value\n",
        "                _, predicted = torch.max(outputs, 1)\n",
        "\n",
        "                # Total number of labels\n",
        "                total += labels.size(0)\n",
        "\n",
        "\n",
        "                # Total correct predictions\n",
        "                if torch.cuda.is_available():\n",
        "                    correct += (predicted.cpu() == labels.cpu()).sum()\n",
        "                else:\n",
        "                    correct += (predicted == labels).sum()\n",
        "\n",
        "            accuracy = 100 * correct.item() / total\n",
        "\n",
        "            # Print Loss\n",
        "            print(f\"Accuracy on the test set: {accuracy:.2f}%\")"
      ],
      "metadata": {
        "colab": {
          "base_uri": "https://localhost:8080/"
        },
        "id": "3_roxuGfxxeR",
        "outputId": "950abaad-0233-46d6-82ee-af351f068d51"
      },
      "execution_count": 44,
      "outputs": [
        {
          "output_type": "stream",
          "name": "stdout",
          "text": [
            "Accuracy on the test set: 83.27%\n"
          ]
        }
      ]
    }
  ]
}